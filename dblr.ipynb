{
 "cells": [
  {
   "cell_type": "code",
   "execution_count": 1,
   "metadata": {},
   "outputs": [],
   "source": [
    "## import pkgs\n",
    "import re\n",
    "import json\n",
    "import numpy as np\n",
    "from copy import deepcopy\n",
    "from sklearn import linear_model\n",
    "from collections import OrderedDict\n",
    "import matplotlib.pyplot as plt\n",
    "\n",
    "%matplotlib inline\n"
   ]
  },
  {
   "cell_type": "code",
   "execution_count": 2,
   "metadata": {},
   "outputs": [],
   "source": [
    "## prepare data\n",
    "data_raw = np.random.randint(1, 5, (10, 2))\n",
    "data_raw = data_raw + np.random.random(data_raw.shape)\n"
   ]
  },
  {
   "cell_type": "code",
   "execution_count": 3,
   "metadata": {},
   "outputs": [
    {
     "data": {
      "text/plain": [
       "array([[4.29852059, 1.98035591],\n",
       "       [3.36152908, 3.84760253],\n",
       "       [4.99367423, 1.85902844],\n",
       "       [3.45574295, 2.13740451],\n",
       "       [2.91458402, 3.54985557],\n",
       "       [2.62961129, 4.1678134 ],\n",
       "       [4.37045834, 4.99965457],\n",
       "       [4.62080498, 2.94751671],\n",
       "       [3.17671191, 2.09570089],\n",
       "       [2.61811653, 4.60088754]])"
      ]
     },
     "execution_count": 3,
     "metadata": {},
     "output_type": "execute_result"
    }
   ],
   "source": [
    "data_raw\n"
   ]
  },
  {
   "cell_type": "code",
   "execution_count": 4,
   "metadata": {},
   "outputs": [],
   "source": [
    "data = deepcopy(data_raw)\n",
    "for i in range(1, len(data)):\n",
    "    data[i, 0] = np.sum(data[i, 0] + data[i - 1, 0])\n"
   ]
  },
  {
   "cell_type": "code",
   "execution_count": 5,
   "metadata": {},
   "outputs": [
    {
     "data": {
      "text/plain": [
       "array([ 4.29852059,  7.66004967, 12.6537239 , 16.10946686, 19.02405087,\n",
       "       21.65366216, 26.0241205 , 30.64492548, 33.82163739, 36.43975392])"
      ]
     },
     "execution_count": 5,
     "metadata": {},
     "output_type": "execute_result"
    }
   ],
   "source": [
    "data[:, 0]\n"
   ]
  },
  {
   "cell_type": "code",
   "execution_count": 6,
   "metadata": {},
   "outputs": [
    {
     "data": {
      "image/png": "[encoded data removed]",
      "text/plain": [
       "<Figure size 432x288 with 1 Axes>"
      ]
     },
     "metadata": {},
     "output_type": "display_data"
    }
   ],
   "source": [
    "plt.scatter(data[:, 0], data[:, 1])\n",
    "plt.xlim(0)\n",
    "plt.ylim(0)\n",
    "plt.xlabel('Time')\n",
    "plt.ylabel('Load')\n",
    "plt.title('Time/Load Plt')\n",
    "plt.show()\n"
   ]
  },
  {
   "cell_type": "code",
   "execution_count": 7,
   "metadata": {},
   "outputs": [
    {
     "data": {
      "text/plain": [
       "LinearRegression(copy_X=True, fit_intercept=True, n_jobs=1, normalize=False)"
      ]
     },
     "execution_count": 7,
     "metadata": {},
     "output_type": "execute_result"
    }
   ],
   "source": [
    "## fit data\n",
    "clf = linear_model.LinearRegression()\n",
    "clf.fit(data[:, 0].reshape(-1, 1), data[:, 1])\n"
   ]
  },
  {
   "cell_type": "code",
   "execution_count": 8,
   "metadata": {},
   "outputs": [
    {
     "name": "stdout",
     "output_type": "stream",
     "text": [
      "[0.03920611]\n",
      "2.4018014777102206\n"
     ]
    }
   ],
   "source": [
    "## coef\n",
    "print(clf.coef_)\n",
    "\n",
    "## bias\n",
    "print(clf.intercept_)\n"
   ]
  },
  {
   "cell_type": "code",
   "execution_count": 9,
   "metadata": {},
   "outputs": [],
   "source": [
    "## calculate the line\n",
    "x_lr = [0, data[-1, 0]]\n",
    "y_lr = [ clf.coef_ * x + clf.intercept_ for x in x_lr ]\n"
   ]
  },
  {
   "cell_type": "code",
   "execution_count": 10,
   "metadata": {
    "scrolled": true
   },
   "outputs": [
    {
     "data": {
      "image/png": "[encoded data removed]",
      "text/plain": [
       "<Figure size 432x288 with 1 Axes>"
      ]
     },
     "metadata": {},
     "output_type": "display_data"
    }
   ],
   "source": [
    "## plot\n",
    "fig = plt.figure()\n",
    "ax1 = fig.add_subplot(1, 1, 1)\n",
    "ax1.scatter(data[:, 0], data[:, 1])\n",
    "ax1.plot(x_lr, y_lr)\n",
    "plt.xlim(0)\n",
    "plt.ylim(0)\n",
    "plt.xlabel('Time')\n",
    "plt.ylabel('Load')\n",
    "plt.title('Time/Load Plt')\n",
    "plt.show()\n"
   ]
  },
  {
   "cell_type": "code",
   "execution_count": 11,
   "metadata": {},
   "outputs": [
    {
     "name": "stdout",
     "output_type": "stream",
     "text": [
      "curl http://localhost:5000/20180920v1 -d 'data={\"4.298520591691375\": 1.9803559077022665,\"4.298520591691375\": 1.9803559077022665,\"3.361529079642756\": 3.8476025333628474,\"4.993674231875169\": 1.859028442659599,\"3.455742952127464\": 2.137404514642943,\"2.914584016095107\": 3.5498555651557187,\"2.6296112886342975\": 4.167813404801102,\"4.370458342945869\": 4.999654573042138,\"4.620804980924634\": 2.9475167113877125,\"3.176711908165042\": 2.0957008882054597,\"2.6181165289770325\": 4.600887542960237}' -X PUT\n"
     ]
    }
   ],
   "source": [
    "## generate command\n",
    "result = ''\n",
    "for x, y in zip(data_raw[:, 0], data_raw[:, 1]):\n",
    "    tmp = '\"{}\": {},'.format(x, y)\n",
    "    if result == '':\n",
    "        result = tmp\n",
    "        \n",
    "    result += tmp\n",
    "    \n",
    "result = re.sub(',$', '', result)\n",
    "result = json.loads(json.dumps(result), object_pairs_hook=OrderedDict)\n",
    "print('curl http://localhost:5000/20180920v1 -d \\'data={{{}}}\\' -X PUT'.format(result))\n"
   ]
  },
  {
   "cell_type": "code",
   "execution_count": 12,
   "metadata": {},
   "outputs": [],
   "source": [
    "## timestamp\n",
    "import time\n",
    "import datetime\n",
    "date_raw = '2018-09-23-19.00.00'\n",
    "date = time.strptime(date_raw,\"%Y-%m-%d-%H.%M.%S\")\n",
    "date = datetime.datetime(date[0], date[1], date[2], date[3], date[4], date[5])\n"
   ]
  },
  {
   "cell_type": "code",
   "execution_count": 13,
   "metadata": {},
   "outputs": [
    {
     "data": {
      "text/plain": [
       "datetime.datetime(2018, 9, 23, 19, 10)"
      ]
     },
     "execution_count": 13,
     "metadata": {},
     "output_type": "execute_result"
    }
   ],
   "source": [
    "date += datetime.timedelta(minutes = 10)\n",
    "date\n"
   ]
  },
  {
   "cell_type": "code",
   "execution_count": 14,
   "metadata": {},
   "outputs": [
    {
     "name": "stdout",
     "output_type": "stream",
     "text": [
      "2018-09-23-19.00.00\n",
      "2018-09-23-19.03.21\n",
      "2018-09-23-19.08.20\n",
      "2018-09-23-19.11.47\n",
      "2018-09-23-19.14.41\n",
      "2018-09-23-19.17.18\n",
      "2018-09-23-19.21.40\n",
      "2018-09-23-19.26.17\n",
      "2018-09-23-19.29.27\n"
     ]
    },
    {
     "data": {
      "text/plain": [
       "[['2018-09-23-19.00.00', 1.9803559077022665],\n",
       " ['2018-09-23-19.03.21', 3.8476025333628474],\n",
       " ['2018-09-23-19.08.20', 1.859028442659599],\n",
       " ['2018-09-23-19.11.47', 2.137404514642943],\n",
       " ['2018-09-23-19.14.41', 3.5498555651557187],\n",
       " ['2018-09-23-19.17.18', 4.167813404801102],\n",
       " ['2018-09-23-19.21.40', 4.999654573042138],\n",
       " ['2018-09-23-19.26.17', 2.9475167113877125],\n",
       " ['2018-09-23-19.29.27', 2.0957008882054597],\n",
       " ['2018-09-23-19.32.04', 4.600887542960237]]"
      ]
     },
     "execution_count": 14,
     "metadata": {},
     "output_type": "execute_result"
    }
   ],
   "source": [
    "## generate time feature\n",
    "data_time = deepcopy(data_raw)\n",
    "data_time = data_time.tolist()\n",
    "data_time[0][0] = date_raw\n",
    "for i in range(1, len(data_time)):\n",
    "    print(data_time[i - 1][0])\n",
    "    date = time.strptime(data_time[i - 1][0],\"%Y-%m-%d-%H.%M.%S\")\n",
    "    date = datetime.datetime(date[0], date[1], date[2], date[3], date[4], date[5])\n",
    "    date += datetime.timedelta(minutes = data_time[i][0])\n",
    "    data_time[i][0] = date.strftime('%Y-%m-%d-%H.%M.%S')\n",
    "\n",
    "data_time\n"
   ]
  },
  {
   "cell_type": "code",
   "execution_count": 15,
   "metadata": {},
   "outputs": [
    {
     "name": "stdout",
     "output_type": "stream",
     "text": [
      "curl http://localhost:5000/20180920v1 -d 'data={\"2018-09-23-19.00.00\": 1.9803559077022665,\"2018-09-23-19.03.21\": 3.8476025333628474,\"2018-09-23-19.08.20\": 1.859028442659599,\"2018-09-23-19.11.47\": 2.137404514642943,\"2018-09-23-19.14.41\": 3.5498555651557187,\"2018-09-23-19.17.18\": 4.167813404801102,\"2018-09-23-19.21.40\": 4.999654573042138,\"2018-09-23-19.26.17\": 2.9475167113877125,\"2018-09-23-19.29.27\": 2.0957008882054597,\"2018-09-23-19.32.04\": 4.600887542960237}' -X PUT\n"
     ]
    }
   ],
   "source": [
    "## generate command\n",
    "result = ''\n",
    "for x, y in data_time:\n",
    "    tmp = '\"{}\": {},'.format(x, y)\n",
    "    if result == '':\n",
    "        result = tmp\n",
    "        continue\n",
    "        \n",
    "    result += tmp\n",
    "    \n",
    "result = re.sub(',$', '', result)\n",
    "result = json.loads(json.dumps(result), object_pairs_hook=OrderedDict)\n",
    "print('curl http://localhost:5000/20180920v1 -d \\'data={{{}}}\\' -X PUT'.format(result))\n"
   ]
  },
  {
   "cell_type": "code",
   "execution_count": 16,
   "metadata": {},
   "outputs": [
    {
     "name": "stdout",
     "output_type": "stream",
     "text": [
      "OrderedDict([('2018-09-23-19.00.00', 1.9803559077022665), ('2018-09-23-19.03.21', 3.8476025333628474), ('2018-09-23-19.08.20', 1.859028442659599), ('2018-09-23-19.11.47', 2.137404514642943), ('2018-09-23-19.14.41', 3.5498555651557187), ('2018-09-23-19.17.18', 4.167813404801102), ('2018-09-23-19.21.40', 4.999654573042138), ('2018-09-23-19.26.17', 2.9475167113877125), ('2018-09-23-19.29.27', 2.0957008882054597), ('2018-09-23-19.32.04', 4.600887542960237)])\n",
      "[[ 0.          1.98035591]\n",
      " [ 3.21        3.84760253]\n",
      " [ 8.2         1.85902844]\n",
      " [11.47        2.13740451]\n",
      " [14.41        3.54985557]\n",
      " [17.18        4.1678134 ]\n",
      " [21.4         4.99965457]\n",
      " [26.17        2.94751671]\n",
      " [29.27        2.09570089]\n",
      " [32.04        4.60088754]]\n",
      "0.039258119164482366\n",
      "2.577300631840183\n"
     ]
    }
   ],
   "source": [
    "data_dict = OrderedDict()\n",
    "base = None\n",
    "data = None\n",
    "data_input = '{{{}}}'.format(result)\n",
    "data_input = json.loads(data_input, object_pairs_hook=OrderedDict)\n",
    "print(data_input)\n",
    "\n",
    "for key in data_input:\n",
    "    if base is None:\n",
    "        base = time.strptime(key, \"%Y-%m-%d-%H.%M.%S\")\n",
    "        base = datetime.datetime(base[0], base[1], base[2], base[3], base[4], base[5])\n",
    "        data_dict['0'] = data_input[key]\n",
    "        continue\n",
    "        \n",
    "    now = time.strptime(key, \"%Y-%m-%d-%H.%M.%S\")\n",
    "    now = datetime.datetime(now[0], now[1], now[2], now[3], now[4], now[5])\n",
    "    x = ((now - base).seconds // 60) + ((now - base).seconds % 60) * 0.01\n",
    "    data_dict[x] = data_input[key]\n",
    "\n",
    "data = np.array([[ float(x), data_dict[x] ] for x in data_dict ])\n",
    "print(data)\n",
    "\n",
    "clfr = linear_model.LinearRegression()\n",
    "clfr.fit(data[:, 0].reshape(-1, 1), data[:, 1])\n",
    "print(clfr.coef_[0])\n",
    "print(clfr.intercept_)\n"
   ]
  },
  {
   "cell_type": "code",
   "execution_count": 17,
   "metadata": {},
   "outputs": [
    {
     "data": {
      "image/png": "[encoded data removed]",
      "text/plain": [
       "<Figure size 432x288 with 1 Axes>"
      ]
     },
     "metadata": {},
     "output_type": "display_data"
    }
   ],
   "source": [
    "## calculate the line\n",
    "x_lr = [0, data[-1, 0]]\n",
    "y_lr = [ clfr.coef_ * x + clfr.intercept_ for x in x_lr ]\n",
    "\n",
    "## plot\n",
    "fig = plt.figure()\n",
    "ax1 = fig.add_subplot(1, 1, 1)\n",
    "ax1.scatter(data[:, 0], data[:, 1])\n",
    "ax1.plot(x_lr, y_lr)\n",
    "plt.xlim(0)\n",
    "plt.ylim(0)\n",
    "plt.xlabel('Time')\n",
    "plt.ylabel('Load')\n",
    "plt.title('Time/Load Plt')\n",
    "plt.show()\n"
   ]
  },
  {
   "cell_type": "code",
   "execution_count": null,
   "metadata": {},
   "outputs": [],
   "source": []
  }
 ],
 "metadata": {
  "kernelspec": {
   "display_name": "Python 3",
   "language": "python",
   "name": "python3"
  },
  "language_info": {
   "codemirror_mode": {
    "name": "ipython",
    "version": 3
   },
   "file_extension": ".py",
   "mimetype": "text/x-python",
   "name": "python",
   "nbconvert_exporter": "python",
   "pygments_lexer": "ipython3",
   "version": "3.5.2"
  }
 },
 "nbformat": 4,
 "nbformat_minor": 2
}
